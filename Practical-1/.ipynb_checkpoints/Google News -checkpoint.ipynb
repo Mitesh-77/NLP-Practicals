{
 "cells": [
  {
   "cell_type": "markdown",
   "id": "ca7f5bb9",
   "metadata": {},
   "source": [
    "## Import GoogleNews\n"
   ]
  },
  {
   "cell_type": "code",
   "execution_count": 1,
   "id": "71cdae5c",
   "metadata": {},
   "outputs": [],
   "source": [
    "from GoogleNews  import GoogleNews\n",
    "import pandas as pd\n",
    "\n",
    "# googlenews = GoogleNews()\n"
   ]
  },
  {
   "cell_type": "markdown",
   "id": "fce6d196",
   "metadata": {},
   "source": [
    "## Get The News \n"
   ]
  },
  {
   "cell_type": "code",
   "execution_count": 2,
   "id": "3a9824e2",
   "metadata": {},
   "outputs": [],
   "source": [
    "# googlenews.search('Corona')\n",
    "\n",
    "# search = googlenews.result()\n"
   ]
  },
  {
   "cell_type": "code",
   "execution_count": 3,
   "id": "32956d3e",
   "metadata": {},
   "outputs": [],
   "source": [
    "# search = pd.DataFrame(search)"
   ]
  },
  {
   "cell_type": "markdown",
   "id": "5f9dfa80",
   "metadata": {},
   "source": [
    "## Get Title and Link"
   ]
  },
  {
   "cell_type": "code",
   "execution_count": 4,
   "id": "1cd8c045",
   "metadata": {},
   "outputs": [],
   "source": [
    "def getnews(topic):\n",
    "    news_data = []\n",
    "    gn = GoogleNews(lang=\"en\")\n",
    "    gn.get_news(topic)\n",
    "    search = gn.result()\n",
    "    for item in search:\n",
    "        sub_data = {\n",
    "            'title' : item['title'],\n",
    "            'link' : item['link']\n",
    "        }\n",
    "        news_data.append(sub_data)\n",
    "    return news_data\n",
    "        "
   ]
  },
  {
   "cell_type": "code",
   "execution_count": null,
   "id": "c748f29f",
   "metadata": {},
   "outputs": [],
   "source": [
    "topic = input(\"Enter the Topic name : \")\n",
    "news = getnews(topic)\n",
    "news = pd.DataFrame(news)\n",
    "news_data = news.style.set_properties(**{'text-align': 'left'}).set_table_styles([dict(selector = 'th', props=[('text-align', 'left')])])\n",
    "news_data"
   ]
  },
  {
   "cell_type": "markdown",
   "id": "7fd76337",
   "metadata": {},
   "source": [
    "## Store into Csv and Json File"
   ]
  },
  {
   "cell_type": "code",
   "execution_count": null,
   "id": "a04a235f",
   "metadata": {},
   "outputs": [],
   "source": [
    "news.to_csv('GoogleNews_' + topic +'.csv')\n",
    "news.to_json('GoogleNews_' + topic +'.json')"
   ]
  },
  {
   "cell_type": "code",
   "execution_count": null,
   "id": "6a978875",
   "metadata": {},
   "outputs": [],
   "source": []
  }
 ],
 "metadata": {
  "kernelspec": {
   "display_name": "Python 3",
   "language": "python",
   "name": "python3"
  },
  "language_info": {
   "codemirror_mode": {
    "name": "ipython",
    "version": 3
   },
   "file_extension": ".py",
   "mimetype": "text/x-python",
   "name": "python",
   "nbconvert_exporter": "python",
   "pygments_lexer": "ipython3",
   "version": "3.8.5"
  }
 },
 "nbformat": 4,
 "nbformat_minor": 5
}
