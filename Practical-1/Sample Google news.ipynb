{
 "cells": [
  {
   "cell_type": "code",
   "execution_count": 52,
   "id": "86b29307",
   "metadata": {},
   "outputs": [],
   "source": [
    "from GoogleNews import GoogleNews\n"
   ]
  },
  {
   "cell_type": "code",
   "execution_count": 53,
   "id": "bfef559b",
   "metadata": {},
   "outputs": [],
   "source": [
    "googlenews = GoogleNews()"
   ]
  },
  {
   "cell_type": "markdown",
   "id": "8e36a1e0",
   "metadata": {},
   "source": [
    "## Optional choose language"
   ]
  },
  {
   "cell_type": "code",
   "execution_count": 54,
   "id": "89d8bd0d",
   "metadata": {},
   "outputs": [],
   "source": [
    "googlenews = GoogleNews(lang='en')"
   ]
  },
  {
   "cell_type": "markdown",
   "id": "6d12f513",
   "metadata": {},
   "source": [
    "## Optional choose period"
   ]
  },
  {
   "cell_type": "code",
   "execution_count": 55,
   "id": "a3acc6ca",
   "metadata": {},
   "outputs": [],
   "source": [
    "googlenews = GoogleNews(period='7d')\n",
    "#googlenews = GoogleNews(start='02/01/2020',end='02/28/2020')"
   ]
  },
  {
   "cell_type": "markdown",
   "id": "e37ebc76",
   "metadata": {},
   "source": [
    "## Optional set encode"
   ]
  },
  {
   "cell_type": "code",
   "execution_count": 56,
   "id": "e923c711",
   "metadata": {},
   "outputs": [],
   "source": [
    "googlenews = GoogleNews(encode='utf-8')"
   ]
  },
  {
   "cell_type": "markdown",
   "id": "641fcd19",
   "metadata": {},
   "source": [
    "## Search news for Entity"
   ]
  },
  {
   "cell_type": "code",
   "execution_count": 57,
   "id": "c1bd95cb",
   "metadata": {},
   "outputs": [],
   "source": [
    "#googlenews.get_news('APPLE')"
   ]
  },
  {
   "cell_type": "code",
   "execution_count": 58,
   "id": "51831318",
   "metadata": {},
   "outputs": [],
   "source": [
    "googlenews.search('APPLE')"
   ]
  },
  {
   "cell_type": "code",
   "execution_count": 59,
   "id": "e0f8fb27",
   "metadata": {},
   "outputs": [],
   "source": [
    "googlenews.get_page(2)"
   ]
  },
  {
   "cell_type": "code",
   "execution_count": 60,
   "id": "8f1d3be2",
   "metadata": {},
   "outputs": [],
   "source": [
    "result = googlenews.page_at(2)"
   ]
  },
  {
   "cell_type": "code",
   "execution_count": 61,
   "id": "ff03e2c0",
   "metadata": {},
   "outputs": [],
   "source": [
    "#googlenews.total_count()"
   ]
  },
  {
   "cell_type": "code",
   "execution_count": 62,
   "id": "6cad4321",
   "metadata": {},
   "outputs": [],
   "source": [
    "#result"
   ]
  },
  {
   "cell_type": "markdown",
   "id": "512dd489",
   "metadata": {},
   "source": [
    "## Import Other library"
   ]
  },
  {
   "cell_type": "code",
   "execution_count": 65,
   "id": "d933c9cc",
   "metadata": {},
   "outputs": [],
   "source": [
    "import json\n",
    "import nltk\n",
    "from nltk.tokenize import word_tokenize\n",
    "from nltk.corpus import stopwords\n",
    "from nltk.stem import PorterStemmer\n",
    "from nltk.stem import WordNetLemmatizer "
   ]
  },
  {
   "cell_type": "code",
   "execution_count": 101,
   "id": "de8332f4",
   "metadata": {},
   "outputs": [
    {
     "name": "stdout",
     "output_type": "stream",
     "text": [
      "Enter news topic : py\n",
      "\n",
      "\n",
      "\n",
      "TOKENS :\n"
     ]
    },
    {
     "ename": "TypeError",
     "evalue": "list indices must be integers or slices, not dict",
     "output_type": "error",
     "traceback": [
      "\u001b[1;31m---------------------------------------------------------------------------\u001b[0m",
      "\u001b[1;31mTypeError\u001b[0m                                 Traceback (most recent call last)",
      "\u001b[1;32m<ipython-input-101-1d2b82ca93f1>\u001b[0m in \u001b[0;36m<module>\u001b[1;34m\u001b[0m\n\u001b[0;32m     56\u001b[0m \u001b[0mtopic\u001b[0m \u001b[1;33m=\u001b[0m \u001b[0minput\u001b[0m\u001b[1;33m(\u001b[0m\u001b[1;34m\"Enter news topic : \"\u001b[0m\u001b[1;33m)\u001b[0m\u001b[1;33m\u001b[0m\u001b[1;33m\u001b[0m\u001b[0m\n\u001b[0;32m     57\u001b[0m \u001b[1;33m\u001b[0m\u001b[0m\n\u001b[1;32m---> 58\u001b[1;33m \u001b[0mNewsFetch\u001b[0m\u001b[1;33m(\u001b[0m\u001b[0mtopic\u001b[0m\u001b[1;33m)\u001b[0m\u001b[1;33m\u001b[0m\u001b[1;33m\u001b[0m\u001b[0m\n\u001b[0m",
      "\u001b[1;32m<ipython-input-101-1d2b82ca93f1>\u001b[0m in \u001b[0;36mNewsFetch\u001b[1;34m(topic)\u001b[0m\n\u001b[0;32m     48\u001b[0m \u001b[1;33m\u001b[0m\u001b[0m\n\u001b[0;32m     49\u001b[0m     \u001b[1;32mfor\u001b[0m \u001b[0mi\u001b[0m \u001b[1;32min\u001b[0m \u001b[0mlst\u001b[0m\u001b[1;33m:\u001b[0m\u001b[1;33m\u001b[0m\u001b[1;33m\u001b[0m\u001b[0m\n\u001b[1;32m---> 50\u001b[1;33m         \u001b[0mlst\u001b[0m\u001b[1;33m[\u001b[0m\u001b[0mi\u001b[0m\u001b[1;33m]\u001b[0m\u001b[1;33m[\u001b[0m\u001b[1;34m'datetime'\u001b[0m\u001b[1;33m]\u001b[0m \u001b[1;33m=\u001b[0m \u001b[0mjson\u001b[0m\u001b[1;33m.\u001b[0m\u001b[0mdumps\u001b[0m\u001b[1;33m(\u001b[0m \u001b[0mlst\u001b[0m\u001b[1;33m[\u001b[0m\u001b[0mi\u001b[0m\u001b[1;33m]\u001b[0m\u001b[1;33m[\u001b[0m\u001b[1;34m\"datetime\"\u001b[0m\u001b[1;33m]\u001b[0m\u001b[1;33m.\u001b[0m\u001b[0misoformat\u001b[0m\u001b[1;33m(\u001b[0m\u001b[1;33m)\u001b[0m\u001b[1;33m)\u001b[0m\u001b[1;33m\u001b[0m\u001b[1;33m\u001b[0m\u001b[0m\n\u001b[0m\u001b[0;32m     51\u001b[0m     \u001b[0mjson_data\u001b[0m \u001b[1;33m=\u001b[0m \u001b[0mjson\u001b[0m\u001b[1;33m.\u001b[0m\u001b[0mdumps\u001b[0m\u001b[1;33m(\u001b[0m\u001b[0mlst\u001b[0m\u001b[1;33m)\u001b[0m\u001b[1;33m\u001b[0m\u001b[1;33m\u001b[0m\u001b[0m\n\u001b[0;32m     52\u001b[0m \u001b[1;33m\u001b[0m\u001b[0m\n",
      "\u001b[1;31mTypeError\u001b[0m: list indices must be integers or slices, not dict"
     ]
    }
   ],
   "source": [
    "def NewsFetch(topic):\n",
    "    googlenews.search(topic)\n",
    "    client = googlenews.page_at(2)\n",
    "    \n",
    "    stop_words = set(stopwords.words(\"{}\".format(lang)))\n",
    "    ps = PorterStemmer()\n",
    "    lemmatizer = WordNetLemmatizer()\n",
    "    \n",
    "    news_lst = client\n",
    "    lst =[]\n",
    "    \n",
    "    for i in news_lst:\n",
    "        #print(\"\\n\\nTitle : \",i['title'])\n",
    "       # print(\"Link : \",i['link'],end=\"\")\n",
    "        dict2 = i\n",
    "        dict2.pop(\"media\")\n",
    "        lst.append(dict2)\n",
    "    \n",
    "\n",
    "    print(\"\\n\\n\\nTOKENS :\")\n",
    "    for j in lst:\n",
    "        statement = j['title']\n",
    "        tokens = word_tokenize(statement)\n",
    "        #print(\"\\nLENGTH OF TOKENS : \",len(tokens),end=\"\\n\")\n",
    "        #print(\"\\n\",tokens,end=\"\\n\\n\")\n",
    "        lower_str = statement.lower()\n",
    "        #print(\"LOWER STRING : \\n\",lower_str)\n",
    "        filtered_sentence = [s for s in tokens if not s in stop_words]\n",
    "       # print(\"\\nSTOP WORD REMOVAL : \\n\",filtered_sentence,end=\"\\n\")\n",
    "        \n",
    "       # print(\"\\nSTEMMER : \")\n",
    "        for word in tokens:\n",
    "            pass\n",
    "            #print(ps.stem(word),end=\" \")\n",
    "        \n",
    "        \n",
    "        lematizer_lst = nltk.pos_tag(tokens)\n",
    "        #print(\"\\n\\n POS : \\n\",lematizer_lst)\n",
    "        \n",
    "        POS_lst= ['VBN','VBP','VBZ','NNP','NN','CC','CD','DT','EX','FW','IN','JJ','JJR','JJS','LS','MD','NN','NNS','NNPS','PDT','POS','PRP','PRP$','RB','RBR','RBS','RP','TO','UH','VB','VBD','VBG','WDT','WP','WP$','WRB']\n",
    "       # print(\"\\n LAMETTIZATION : \")\n",
    "        for item in lematizer_lst:\n",
    "            if item[1] in POS_lst:\n",
    "                pass\n",
    "                #print(lemmatizer.lemmatize(item[0]),end = \" \")\n",
    "            else:\n",
    "                pass\n",
    "    \n",
    "\n",
    "    json_data = json.dumps(lst)\n",
    "    \n",
    "    #with open(\"GoogleNewsScrapper.json\",\"w+\") as OP:\n",
    "       # OP.write(json_data,)\n",
    "\n",
    "topic = input(\"Enter news topic : \")\n",
    "\n",
    "NewsFetch(topic)"
   ]
  },
  {
   "cell_type": "code",
   "execution_count": null,
   "id": "cc1b1beb",
   "metadata": {},
   "outputs": [],
   "source": []
  },
  {
   "cell_type": "code",
   "execution_count": null,
   "id": "eeac08c0",
   "metadata": {},
   "outputs": [],
   "source": []
  }
 ],
 "metadata": {
  "kernelspec": {
   "display_name": "Python 3",
   "language": "python",
   "name": "python3"
  },
  "language_info": {
   "codemirror_mode": {
    "name": "ipython",
    "version": 3
   },
   "file_extension": ".py",
   "mimetype": "text/x-python",
   "name": "python",
   "nbconvert_exporter": "python",
   "pygments_lexer": "ipython3",
   "version": "3.8.5"
  }
 },
 "nbformat": 4,
 "nbformat_minor": 5
}
